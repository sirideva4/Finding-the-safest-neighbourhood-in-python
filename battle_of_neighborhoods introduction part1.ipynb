{
    "cells": [
        {
            "cell_type": "markdown",
            "metadata": {
                "collapsed": true
            },
            "source": "# 1.Introduction"
        },
        {
            "cell_type": "markdown",
            "metadata": {},
            "source": "## 1.1 Background "
        },
        {
            "cell_type": "markdown",
            "metadata": {},
            "source": "### The average American moves about ten times in their lifetime. This brings us to a question: Do people move until they can find a safe place to stay or do they settle down for other factors such as proximity to office, malls, etc. we mostly try our best to search for a safe neighbourhood and one which fits our criteria. One might want to stay close to their work place or some families prefer to stay near the school of their children so that they are comfortable.      \n"
        },
        {
            "cell_type": "markdown",
            "metadata": {},
            "source": "### To minimize the chance of feeling any discomfort after shifting we should research the neighbourhood thoroughly. We should consider our priorities and make an informed choice so that we don\u2019t regret it after getting there. One common concern is safety. All of us want to live safe communities. "
        },
        {
            "cell_type": "markdown",
            "metadata": {},
            "source": "## 1.2 Problem "
        },
        {
            "cell_type": "markdown",
            "metadata": {},
            "source": "###  The crime statistics dataset of Chicago found on cityofchicago.org has crimes in each district from 2001. The year 2019 will be taken as the latest data . the crime rates in each district may have changed over time.  This project aims to select the safest district in Chicago based on total crimes, explore the district to find the ten most common venues in each district and finally cluster the neighbourhoods using k-means clustering.\n"
        },
        {
            "cell_type": "markdown",
            "metadata": {},
            "source": "## 1.3 Interest "
        },
        {
            "cell_type": "markdown",
            "metadata": {},
            "source": "### People who are considering to relocate to Chicago will find it easy to identify the safest district in Chicago and common venues in each district."
        }
    ],
    "metadata": {
        "kernelspec": {
            "display_name": "Python 3.6",
            "language": "python",
            "name": "python3"
        },
        "language_info": {
            "codemirror_mode": {
                "name": "ipython",
                "version": 3
            },
            "file_extension": ".py",
            "mimetype": "text/x-python",
            "name": "python",
            "nbconvert_exporter": "python",
            "pygments_lexer": "ipython3",
            "version": "3.6.9"
        }
    },
    "nbformat": 4,
    "nbformat_minor": 1
}